{
 "cells": [
  {
   "cell_type": "code",
   "execution_count": null,
   "metadata": {},
   "outputs": [],
   "source": [
    "# uncomment the below to install required packages and libraries\n",
    "#!pip install datasets==2.11\n",
    "#!pip install setfit==1.0.3\n",
    "#!pip install loguru==0.6.0"
   ]
  },
  {
   "cell_type": "code",
   "execution_count": 25,
   "metadata": {},
   "outputs": [],
   "source": [
    "from datasets import load_dataset\n",
    "from datetime import date\n",
    "from loguru import logger\n",
    "\n",
    "from setfit import TrainingArguments, Trainer, SetFitModel\n",
    "from huggingface_hub import notebook_login\n"
   ]
  },
  {
   "cell_type": "code",
   "execution_count": null,
   "metadata": {},
   "outputs": [],
   "source": [
    "# Set main variables\n",
    "TRAINING_MODEL = \"sentence-transformers/paraphrase-mpnet-base-v2\"\n",
    "TEST_SIZE = 0.15\n",
    "Training_Arguments = TrainingArguments(batch_size=36, num_epochs=1, seed=123)"
   ]
  },
  {
   "cell_type": "markdown",
   "metadata": {},
   "source": [
    "### 1. Load a sample dataset"
   ]
  },
  {
   "cell_type": "code",
   "execution_count": null,
   "metadata": {},
   "outputs": [],
   "source": [
    "def data_load():\n",
    "    \"\"\"\n",
    "    Loads the dataset from Datasets Library\n",
    "    \"\"\"\n",
    "    # load the dataset from datasets library\n",
    "    dataset = load_dataset(\"SetFit/SentEval-CR\")\n",
    "    # select N examples per class (8 in this case)\n",
    "    train_ds = dataset[\"train\"].shuffle(seed=42).select(range(8 * 2))\n",
    "    test_ds = dataset[\"test\"]\n",
    "    return train_ds, test_ds"
   ]
  },
  {
   "cell_type": "markdown",
   "metadata": {},
   "source": [
    "### 2. Finetune a HF Setfit model"
   ]
  },
  {
   "cell_type": "code",
   "execution_count": null,
   "metadata": {},
   "outputs": [],
   "source": [
    "def model_finetuning(MODEL, TrainingArguments, Train_Data, Val_Data) :\n",
    "    \"\"\"\n",
    "    Fine-tunes the specified model on the provided training data and evaluates it on the validation data.\n",
    "    \"\"\"\n",
    "    # load the fine-tuned model\n",
    "    model = SetFitModel.from_pretrained(MODEL)\n",
    "    # set up the training arguments\n",
    "    trainer = Trainer(\n",
    "    model=model,\n",
    "    args=TrainingArguments,\n",
    "    train_dataset=Train_Data,\n",
    "    eval_dataset= Val_Data\n",
    "    )\n",
    "    logger.info('fine-tuning the Setfit model on dataset')\n",
    "    # launch the fine-tuning\n",
    "    trainer.train()\n",
    "    logger.info('saving the fine-tuned model')\n",
    "    model_directory_timestamp = f'{date.today().strftime(\"%Y%m%d\")}-reviews-text-classification'\n",
    "    # save the model locally\n",
    "    trainer.model.save_pretrained(model_directory_timestamp)\n",
    "    # evaluate the model\n",
    "    metrics = trainer.evaluate()\n",
    "    logger.info(f\"'Performance of fine-tuned model: , {metrics}\")\n",
    "    return trainer, metrics"
   ]
  },
  {
   "cell_type": "code",
   "execution_count": null,
   "metadata": {},
   "outputs": [],
   "source": [
    "def main():\n",
    "    train_data, val_data = data_load()\n",
    "    trainer, metrics = model_finetuning(\n",
    "        TRAINING_MODEL, Training_Arguments, train_data, val_data)\n",
    "    return trainer, metrics"
   ]
  },
  {
   "cell_type": "code",
   "execution_count": null,
   "metadata": {},
   "outputs": [],
   "source": [
    "if __name__== \"__main__\":\n",
    "    trainer, metrics = main()"
   ]
  },
  {
   "cell_type": "markdown",
   "metadata": {},
   "source": [
    "### 3. Push the fine-tuned model to hub"
   ]
  },
  {
   "cell_type": "code",
   "execution_count": null,
   "metadata": {},
   "outputs": [],
   "source": [
    "# excute this cell to paste the access token generated from HuggingFace account\n",
    "notebook_login()"
   ]
  },
  {
   "cell_type": "code",
   "execution_count": null,
   "metadata": {},
   "outputs": [],
   "source": [
    "# Add the repo name followed by the model name\n",
    "trainer.push_to_hub(\"sultanaw/sample-finetuned-model\")  "
   ]
  }
 ],
 "metadata": {
  "kernelspec": {
   "display_name": "data-team-batch-jG8D-Y9q-py3.8",
   "language": "python",
   "name": "python3"
  },
  "language_info": {
   "codemirror_mode": {
    "name": "ipython",
    "version": 3
   },
   "file_extension": ".py",
   "mimetype": "text/x-python",
   "name": "python",
   "nbconvert_exporter": "python",
   "pygments_lexer": "ipython3",
   "version": "3.8.10"
  }
 },
 "nbformat": 4,
 "nbformat_minor": 2
}
