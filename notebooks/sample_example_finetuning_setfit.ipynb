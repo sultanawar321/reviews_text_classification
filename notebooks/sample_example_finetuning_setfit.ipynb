{
 "cells": [
  {
   "cell_type": "code",
   "execution_count": 1,
   "metadata": {},
   "outputs": [],
   "source": [
    "from datasets import load_dataset\n",
    "from datetime import date\n",
    "from loguru import logger\n",
    "\n",
    "from setfit import TrainingArguments, Trainer, SetFitModel"
   ]
  },
  {
   "cell_type": "code",
   "execution_count": 2,
   "metadata": {},
   "outputs": [],
   "source": [
    "# Set main variables\n",
    "TRAINING_MODEL = \"sentence-transformers/paraphrase-mpnet-base-v2\"\n",
    "TEST_SIZE = 0.15\n",
    "Training_Arguments = TrainingArguments(batch_size=36, num_epochs=1, seed=123)"
   ]
  },
  {
   "cell_type": "code",
   "execution_count": null,
   "metadata": {},
   "outputs": [],
   "source": [
    "def data_load():\n",
    "    \"\"\"\n",
    "    Loads the dataset from Datasets Library\n",
    "    \"\"\"\n",
    "    dataset = load_dataset(\"SetFit/SentEval-CR\")\n",
    "    # Select N examples per class (8 in this case)\n",
    "    train_ds = dataset[\"train\"].shuffle(seed=42).select(range(8 * 2))\n",
    "    test_ds = dataset[\"test\"]\n",
    "    return train_ds, test_ds"
   ]
  },
  {
   "cell_type": "code",
   "execution_count": null,
   "metadata": {},
   "outputs": [],
   "source": [
    "def model_finetuning(MODEL, TrainingArguments, Train_Data, Val_Data) :\n",
    "    \"\"\"\n",
    "    Fine-tunes the specified model on the provided training data and evaluates it on the validation data.\n",
    "    \"\"\"\n",
    "    model = SetFitModel.from_pretrained(MODEL)\n",
    "    trainer = Trainer(\n",
    "    model=model,\n",
    "    args=TrainingArguments,\n",
    "    train_dataset=Train_Data,\n",
    "    eval_dataset= Val_Data\n",
    "    )\n",
    "    logger.info('fine-tuning the Setfit model on dataset')\n",
    "    trainer.train()\n",
    "    logger.info('saving the fine-tuned model')\n",
    "    model_directory_timestamp = f'{date.today().strftime(\"%Y%m%d\")}-reviews-text-classification'\n",
    "    trainer.model.save_pretrained(model_directory_timestamp)\n",
    "    metrics = trainer.evaluate()\n",
    "    logger.info(f\"'Performance of fine-tuned model: , {metrics}\")\n",
    "    return trainer, metrics"
   ]
  },
  {
   "cell_type": "code",
   "execution_count": null,
   "metadata": {},
   "outputs": [],
   "source": [
    "def main():\n",
    "    train_data, val_data = data_load()\n",
    "    trainer, metrics = model_finetuning(\n",
    "        TRAINING_MODEL, Training_Arguments, train_data, val_data)\n",
    "    return trainer, metrics"
   ]
  },
  {
   "cell_type": "code",
   "execution_count": null,
   "metadata": {},
   "outputs": [],
   "source": [
    "if __name__== \"__main__\":\n",
    "    trainer, metrics = main()"
   ]
  }
 ],
 "metadata": {
  "kernelspec": {
   "display_name": "data-team-batch-jG8D-Y9q-py3.8",
   "language": "python",
   "name": "python3"
  },
  "language_info": {
   "codemirror_mode": {
    "name": "ipython",
    "version": 3
   },
   "file_extension": ".py",
   "mimetype": "text/x-python",
   "name": "python",
   "nbconvert_exporter": "python",
   "pygments_lexer": "ipython3",
   "version": "3.8.10"
  }
 },
 "nbformat": 4,
 "nbformat_minor": 2
}
