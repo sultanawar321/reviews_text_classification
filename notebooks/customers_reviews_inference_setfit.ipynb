{
 "cells": [
  {
   "cell_type": "code",
   "execution_count": null,
   "metadata": {
    "colab": {
     "base_uri": "https://localhost:8080/"
    },
    "id": "z4fTaUq3GsqG",
    "outputId": "56c069f6-dea2-4122-fd7f-85a3f1b26a91"
   },
   "outputs": [],
   "source": [
    "# Install required packages and libraries\n",
    "!pip install setfit==1.0.3\n",
    "!pip install fuzzywuzzy==0.18.0\n",
    "!pip install loguru==0.6.0"
   ]
  },
  {
   "cell_type": "code",
   "execution_count": null,
   "metadata": {
    "id": "qgIQRg1YGsqI"
   },
   "outputs": [],
   "source": [
    "# Import packages and libraries\n",
    "import re\n",
    "import pandas as pd\n",
    "from fuzzywuzzy import fuzz\n",
    "from loguru import logger\n",
    "from setfit import SetFitModel\n",
    "from google.colab import files\n",
    "\n",
    "# Ignore warnings\n",
    "import warnings\n",
    "\n",
    "warnings.filterwarnings(\"ignore\")"
   ]
  },
  {
   "cell_type": "markdown",
   "metadata": {},
   "source": [
    "### 1. Load the input data"
   ]
  },
  {
   "cell_type": "code",
   "execution_count": null,
   "metadata": {
    "id": "QP9syzTfGsqI"
   },
   "outputs": [],
   "source": [
    "def load_sample_data():\n",
    "    \"\"\"\n",
    "    Uploads the data from local machine and randomly selects 3%\n",
    "    \"\"\"\n",
    "    logger.info(\n",
    "        \"Uploading the reviews csv file from local machine and sampling small data\"\n",
    "    )\n",
    "    uploaded = files.upload()\n",
    "    # Read the data as pandas df\n",
    "    data = pd.read_csv(\"reviews.csv\")\n",
    "    # Load sample reviews data\n",
    "    data = data[[\"ReviewBody\"]].sample(frac=0.03)\n",
    "    data[\"ReviewBody\"] = data[\"ReviewBody\"].astype(str)\n",
    "    # Select non-null values\n",
    "    data = data[data[\"ReviewBody\"].notnull()]\n",
    "    return data"
   ]
  },
  {
   "cell_type": "code",
   "execution_count": null,
   "metadata": {
    "colab": {
     "base_uri": "https://localhost:8080/",
     "height": 92
    },
    "id": "0fPElTWtGsqI",
    "outputId": "66ef61a8-9aab-440e-c505-801715a61a26"
   },
   "outputs": [],
   "source": [
    "# Load the input raw data\n",
    "data = load_sample_data()"
   ]
  },
  {
   "cell_type": "markdown",
   "metadata": {},
   "source": [
    "### 2. Generate inference using the fine-tuned SF"
   ]
  },
  {
   "cell_type": "code",
   "execution_count": null,
   "metadata": {
    "id": "H7Kr1DyhGsqI"
   },
   "outputs": [],
   "source": [
    "def generate_inference(data: pd.DataFrame):\n",
    "    \"\"\"\n",
    "    This functuons loads the fine-tuned customers reviews from the online HF hub and runs inference on sample of reviews\n",
    "    \"\"\"\n",
    "    # Load the fine-tuned model from the hub\n",
    "    fine_tuned_model = SetFitModel.from_pretrained(\"sultanaw/customer_reviews_setfit\")\n",
    "    # Run inference on the customers reviews to generate lables/themes\n",
    "    labels = fine_tuned_model.predict(data[\"ReviewBody\"].tolist())\n",
    "    data[\"predicted_numeric_label\"] = labels\n",
    "    # Reverse the key-value pairs of the category mapping dictionary to map predicted_numeric_label back to strings (topic categories)\n",
    "    category_mapping = {\n",
    "        \"Flights and Departures\": 1,\n",
    "        \"Entertainment and Food\": 2,\n",
    "        \"Cabin Comfort and Baggage\": 3,\n",
    "        \"Lounge Experience\": 4,\n",
    "        \"Boarding and Crew Experience\": 5,\n",
    "        \"Bookings and Refunds\": 6,\n",
    "    }\n",
    "    reverse_category_mapping = {v: k for k, v in category_mapping.items()}\n",
    "    # Apply the reversed mapping dict to the 'predicted numeric label' column and get the theme category\n",
    "    data[\"theme_category\"] = data[\"predicted_numeric_label\"].map(\n",
    "        reverse_category_mapping\n",
    "    )\n",
    "    logger.info(\n",
    "        \"The completion of fine-tuned setfit model predictions with number of customer reviews: {}\".format(\n",
    "            len(data)\n",
    "        )\n",
    "    )\n",
    "    return fine_tuned_model, reverse_category_mapping, data"
   ]
  },
  {
   "cell_type": "code",
   "execution_count": null,
   "metadata": {
    "colab": {
     "base_uri": "https://localhost:8080/"
    },
    "id": "AbpsbStjGsqJ",
    "outputId": "12791392-2de8-43b8-a377-792acf4fb8a2"
   },
   "outputs": [],
   "source": [
    "# Generate inference (predicted themes) for reviews using the fine-tuned model\n",
    "fine_tuned_model, reverse_category_mapping, data, df_predictions = generate_inference(\n",
    "    data\n",
    ")"
   ]
  },
  {
   "cell_type": "code",
   "execution_count": null,
   "metadata": {},
   "outputs": [],
   "source": [
    "# Run inference on sample of reviews\n",
    "sample_reviews = [\n",
    "    \"Fantastic entertainment system with a wide variety of movies and shows. Made the flight enjoyable!\",\n",
    "    \"Quick and hassle-free refund process.\",\n",
    "    \"Booking was easy, but the flight was delayed. The airline handled it well with regular updates.\",\n",
    "    \"The lounge was spacious, clean, and had excellent food and drinks. Great pre-flight relaxation!\",\n",
    "    \"Efficient and organized boarding. Clear announcements and helpful staff. Smooth experience!\",\n",
    "]\n",
    "\n",
    "# Predict numeric labels using the fine_tuned_model\n",
    "labels = fine_tuned_model.predict(sample_reviews).tolist()\n",
    "\n",
    "# Map labels to their respective categories and print the reviews with mapped labels\n",
    "for review, label in zip(sample_reviews, labels):\n",
    "    category_name = reverse_category_mapping.get(label, \"Unknown Category\")\n",
    "    print(f\"Review Label: {label} (Category: {category_name})\\nReview: {review}\\n\")"
   ]
  },
  {
   "cell_type": "markdown",
   "metadata": {},
   "source": [
    "### 3. Baseline evaluation mechanism using Fuzzywuzzy and Regex"
   ]
  },
  {
   "cell_type": "code",
   "execution_count": null,
   "metadata": {
    "id": "egxUIxr6GsqJ"
   },
   "outputs": [],
   "source": [
    "def assign_keywords(row, mapping_dict):\n",
    "    \"\"\"\n",
    "    Assign list of keywords to be present in the text based on the predicted theme\n",
    "    \"\"\"\n",
    "    theme_category = row[\"theme_category\"]\n",
    "    if theme_category in mapping_dict:\n",
    "        return mapping_dict[theme_category]\n",
    "    else:\n",
    "        return None\n",
    "\n",
    "\n",
    "def search(labels, content):\n",
    "    \"\"\"\n",
    "    Search for keywords in the content (review text) based on the established predicted theme by the fine-tuned model\n",
    "    Returns:\n",
    "        True if any of the labels are present in the content, False otherwise.\n",
    "    \"\"\"\n",
    "    for label in labels:\n",
    "        pattern = re.compile(label, re.IGNORECASE)  # Case-insensitive exact search\n",
    "        match = pattern.search(content)\n",
    "        similarity = fuzz.ratio(label.lower(), content.lower())  # Similarity search\n",
    "        if (\n",
    "            match is not None or similarity > 40\n",
    "        ):  # Using 40 as a threshold for similarity\n",
    "            return True\n",
    "    return False\n",
    "\n",
    "\n",
    "def model_results_eval(final_df, topic_mapping_keywords):\n",
    "    \"\"\"\n",
    "    This function applies the evaluation excercise between the predicted themes by the model and\n",
    "    baseline themes which are generated from the keywords look up using regex and fuzzywuzzy\n",
    "    \"\"\"\n",
    "    # Apply the function to create the 'key_words' column\n",
    "    final_df[\"key_words\"] = final_df.apply(\n",
    "        assign_keywords, args=(topic_mapping_keywords,), axis=1\n",
    "    )\n",
    "    # Apply the search function to each row\n",
    "    final_df[\"comparison_result\"] = final_df.apply(\n",
    "        lambda row: search(row[\"key_words\"], row[\"ReviewBody\"]), axis=1\n",
    "    )\n",
    "    final_df[\"key_words\"] = final_df[\"key_words\"].astype(str)\n",
    "    value_counts = final_df[\"comparison_result\"].value_counts(normalize=True).round(2)\n",
    "    # Log the value counts using logger.info()\n",
    "    logger.info(\n",
    "        f\"The comparison result between finetuned model's predictions and established themes based on keywords is:\\n{value_counts}\"\n",
    "    )\n",
    "    return final_df"
   ]
  },
  {
   "cell_type": "code",
   "execution_count": null,
   "metadata": {
    "id": "7N_rf2dZGsqJ"
   },
   "outputs": [],
   "source": [
    "# Define list of relevant key words per topic group\n",
    "topic_mapping_keywords = {\n",
    "    \"Boarding and Crew Experience\": [\n",
    "        \"attendants\",\n",
    "        \"pleasant\",\n",
    "        \"crew\",\n",
    "        \"member\",\n",
    "        \"boarding\",\n",
    "    ],\n",
    "    \"Entertainment and Food\": [\n",
    "        \"media\",\n",
    "        \"wifi\",\n",
    "        \"screen\",\n",
    "        \"headphones\",\n",
    "        \"electronics\",\n",
    "        \"snacks\",\n",
    "        \"drinks\",\n",
    "        \"food\",\n",
    "        \"baverages\",\n",
    "        \"catering\",\n",
    "        \"served\",\n",
    "        \"refreshments\",\n",
    "    ],\n",
    "    \"Cabin Comfort and Baggage\": [\n",
    "        \"seats\",\n",
    "        \"legging\",\n",
    "        \"legroom\",\n",
    "        \"sleep\",\n",
    "        \"space\",\n",
    "        \"luggage\",\n",
    "        \"baggage\",\n",
    "        \"bags\",\n",
    "        \"suitcase\",\n",
    "    ],\n",
    "    \"Lounge Experience\": [\"lounge\", \"service\", \"offerings\", \"business\"],\n",
    "    \"Bookings and Refunds\": [\n",
    "        \"rebook\",\n",
    "        \"tickets\",\n",
    "        \"refunds\",\n",
    "        \"pound\",\n",
    "        \"claim\",\n",
    "        \"complaint\",\n",
    "        \"call centre\",\n",
    "        \"email\",\n",
    "        \"online\",\n",
    "        \"system\",\n",
    "        \"telephoney\",\n",
    "        \"points\",\n",
    "    ],\n",
    "    \"Flights and Departures\": [\n",
    "        \"takeoff\",\n",
    "        \"flights\",\n",
    "        \"disruptions\",\n",
    "        \"delay\",\n",
    "        \"time\",\n",
    "        \"cancellations\",\n",
    "        \"return\",\n",
    "        \"inbound\",\n",
    "        \"outbound\",\n",
    "        \"desk\",\n",
    "        \"terminal\",\n",
    "        \"staff\",\n",
    "        \"connection\",\n",
    "        \"hotel\",\n",
    "    ],\n",
    "}"
   ]
  },
  {
   "cell_type": "code",
   "execution_count": null,
   "metadata": {
    "colab": {
     "base_uri": "https://localhost:8080/"
    },
    "id": "g7orSXFwGsqK",
    "outputId": "a8c72c7d-e058-4744-985d-5c6a109a9e43"
   },
   "outputs": [],
   "source": [
    "# Apply the evaluation excercise to monitor the model predictions and compare with baseline themes through look-up words\n",
    "final_df = model_results_eval(df_predictions, topic_mapping_keywords)"
   ]
  }
 ],
 "metadata": {
  "colab": {
   "provenance": []
  },
  "kernelspec": {
   "display_name": "data-team-batch-jG8D-Y9q-py3.8",
   "language": "python",
   "name": "python3"
  },
  "language_info": {
   "codemirror_mode": {
    "name": "ipython",
    "version": 3
   },
   "file_extension": ".py",
   "mimetype": "text/x-python",
   "name": "python",
   "nbconvert_exporter": "python",
   "pygments_lexer": "ipython3",
   "version": "3.8.10"
  }
 },
 "nbformat": 4,
 "nbformat_minor": 0
}
